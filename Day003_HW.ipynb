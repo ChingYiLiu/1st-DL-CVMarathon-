{
 "cells": [
  {
   "cell_type": "markdown",
   "metadata": {},
   "source": [
    "# Python 下載XML檔案與解析\n",
    "\n",
    "\n",
    "* 了解 xml 檔案格式與內容\n",
    "* 能夠利用套件存取 xml 格式的檔案\n"
   ]
  },
  {
   "cell_type": "markdown",
   "metadata": {},
   "source": [
    "## 作業目標\n",
    "\n",
    "* 比較一下範例檔案中的「File I/O」與「xmltodict」讀出來的內容有什麼差異\n",
    "\n",
    "* 根據範例檔案的結果：\n",
    "    1. 請問高雄市有多少地區有溫度資料？\n",
    "    2. 請取出每一個地區所記錄的第一個時間點跟溫度\n",
    "    3. 請取出第一個地區所記錄的每一個時間點跟溫度"
   ]
  },
  {
   "cell_type": "markdown",
   "metadata": {},
   "source": [
    "### 比較一下範例檔案中的「File I/O」與「xmltodict」讀出來的內容有什麼差異\n"
   ]
  },
  {
   "cell_type": "code",
   "execution_count": null,
   "metadata": {},
   "outputs": [],
   "source": [
    "'''\n",
    "File I/O\n",
    "    讀出來的是str (文字)\n",
    "xmltodict\n",
    "    讀出來的是以dictionary格式貯存\n",
    "'''"
   ]
  },
  {
   "cell_type": "code",
   "execution_count": 1,
   "metadata": {},
   "outputs": [],
   "source": [
    "import xmltodict\n",
    "\n",
    "# 讀檔案\n",
    "fh = open(\"./data/64_72hr_CH.xml\", \"r\", encoding = \"utf-8\")\n",
    "xml = fh.read()\n",
    "fh.close()\n",
    "\n",
    "# 讀成dictionary\n",
    "d = dict(xmltodict.parse(xml))"
   ]
  },
  {
   "cell_type": "markdown",
   "metadata": {},
   "source": [
    "### 根據範例檔案的結果：\n",
    "\n",
    "1. 請問高雄市有多少地區有溫度資料？\n",
    "2. 請取出每一個地區所記錄的第一個時間點跟溫度\n",
    "3. 請取出第一個地區所記錄的每一個時間點跟溫度"
   ]
  },
  {
   "cell_type": "code",
   "execution_count": 37,
   "metadata": {},
   "outputs": [
    {
     "name": "stdout",
     "output_type": "stream",
     "text": [
      "高雄市總共有多少地區有溫度資料： 38\n",
      "==========\n",
      "鹽埕區\n",
      "鼓山區\n",
      "左營區\n",
      "楠梓區\n",
      "三民區\n",
      "新興區\n",
      "前金區\n",
      "苓雅區\n",
      "前鎮區\n",
      "旗津區\n",
      "小港區\n",
      "鳳山區\n",
      "林園區\n",
      "大寮區\n",
      "大樹區\n",
      "大社區\n",
      "仁武區\n",
      "鳥松區\n",
      "岡山區\n",
      "橋頭區\n",
      "燕巢區\n",
      "田寮區\n",
      "阿蓮區\n",
      "路竹區\n",
      "湖內區\n",
      "茄萣區\n",
      "永安區\n",
      "彌陀區\n",
      "梓官區\n",
      "旗山區\n",
      "美濃區\n",
      "六龜區\n",
      "甲仙區\n",
      "杉林區\n",
      "內門區\n",
      "茂林區\n",
      "桃源區\n",
      "那瑪夏區\n"
     ]
    }
   ],
   "source": [
    "# 1. 請問高雄市有多少地區有溫度資料？\n",
    "\n",
    "# 取出 locationName\n",
    "locationName = d['cwbopendata']['dataset']['locations']['location']\n",
    "#print(locationName)\n",
    "#locationName[0]['locationName']\n",
    "print('高雄市總共有多少地區有溫度資料： %i' % len(locationName))\n",
    "print(\"=\"*10)\n",
    "for i in range(0, len(locationName)):\n",
    "    print(locationName[i]['locationName'])\n"
   ]
  },
  {
   "cell_type": "code",
   "execution_count": 53,
   "metadata": {},
   "outputs": [
    {
     "name": "stdout",
     "output_type": "stream",
     "text": [
      "2019-06-28T12:00:00+08:00\n",
      "33\n"
     ]
    }
   ],
   "source": [
    "# print(d['cwbopendata']['dataset']['locations']['location'][0]) #換地區\n",
    "# print(d['cwbopendata']['dataset']['locations']['location'][0]['weatherElement'][0]) #溫度\n",
    "print(d['cwbopendata']['dataset']['locations']['location'][0]['weatherElement'][0]['time'][0]['dataTime']) #換第幾筆溫度資料\n",
    "print(d['cwbopendata']['dataset']['locations']['location'][0]['weatherElement'][0]['time'][0]['elementValue']['value'])"
   ]
  },
  {
   "cell_type": "code",
   "execution_count": 99,
   "metadata": {},
   "outputs": [
    {
     "name": "stdout",
     "output_type": "stream",
     "text": [
      " 鹽埕區   \t 時間：2019-06-28T12:00:00+08:00      \t 溫度：33  \n",
      " 鼓山區   \t 時間：2019-06-28T12:00:00+08:00      \t 溫度：33  \n",
      " 左營區   \t 時間：2019-06-28T12:00:00+08:00      \t 溫度：33  \n",
      " 楠梓區   \t 時間：2019-06-28T12:00:00+08:00      \t 溫度：34  \n",
      " 三民區   \t 時間：2019-06-28T12:00:00+08:00      \t 溫度：32  \n",
      " 新興區   \t 時間：2019-06-28T12:00:00+08:00      \t 溫度：33  \n",
      " 前金區   \t 時間：2019-06-28T12:00:00+08:00      \t 溫度：33  \n",
      " 苓雅區   \t 時間：2019-06-28T12:00:00+08:00      \t 溫度：33  \n",
      " 前鎮區   \t 時間：2019-06-28T12:00:00+08:00      \t 溫度：33  \n",
      " 旗津區   \t 時間：2019-06-28T12:00:00+08:00      \t 溫度：32  \n",
      " 小港區   \t 時間：2019-06-28T12:00:00+08:00      \t 溫度：33  \n",
      " 鳳山區   \t 時間：2019-06-28T12:00:00+08:00      \t 溫度：34  \n",
      " 林園區   \t 時間：2019-06-28T12:00:00+08:00      \t 溫度：33  \n",
      " 大寮區   \t 時間：2019-06-28T12:00:00+08:00      \t 溫度：34  \n",
      " 大樹區   \t 時間：2019-06-28T12:00:00+08:00      \t 溫度：34  \n",
      " 大社區   \t 時間：2019-06-28T12:00:00+08:00      \t 溫度：34  \n",
      " 仁武區   \t 時間：2019-06-28T12:00:00+08:00      \t 溫度：33  \n",
      " 鳥松區   \t 時間：2019-06-28T12:00:00+08:00      \t 溫度：34  \n",
      " 岡山區   \t 時間：2019-06-28T12:00:00+08:00      \t 溫度：34  \n",
      " 橋頭區   \t 時間：2019-06-28T12:00:00+08:00      \t 溫度：35  \n",
      " 燕巢區   \t 時間：2019-06-28T12:00:00+08:00      \t 溫度：34  \n",
      " 田寮區   \t 時間：2019-06-28T12:00:00+08:00      \t 溫度：34  \n",
      " 阿蓮區   \t 時間：2019-06-28T12:00:00+08:00      \t 溫度：34  \n",
      " 路竹區   \t 時間：2019-06-28T12:00:00+08:00      \t 溫度：33  \n",
      " 湖內區   \t 時間：2019-06-28T12:00:00+08:00      \t 溫度：33  \n",
      " 茄萣區   \t 時間：2019-06-28T12:00:00+08:00      \t 溫度：33  \n",
      " 永安區   \t 時間：2019-06-28T12:00:00+08:00      \t 溫度：32  \n",
      " 彌陀區   \t 時間：2019-06-28T12:00:00+08:00      \t 溫度：32  \n",
      " 梓官區   \t 時間：2019-06-28T12:00:00+08:00      \t 溫度：32  \n",
      " 旗山區   \t 時間：2019-06-28T12:00:00+08:00      \t 溫度：34  \n",
      " 美濃區   \t 時間：2019-06-28T12:00:00+08:00      \t 溫度：34  \n",
      " 六龜區   \t 時間：2019-06-28T12:00:00+08:00      \t 溫度：34  \n",
      " 甲仙區   \t 時間：2019-06-28T12:00:00+08:00      \t 溫度：33  \n",
      " 杉林區   \t 時間：2019-06-28T12:00:00+08:00      \t 溫度：36  \n",
      " 內門區   \t 時間：2019-06-28T12:00:00+08:00      \t 溫度：34  \n",
      " 茂林區   \t 時間：2019-06-28T12:00:00+08:00      \t 溫度：34  \n",
      " 桃源區   \t 時間：2019-06-28T12:00:00+08:00      \t 溫度：31  \n",
      " 那瑪夏區  \t 時間：2019-06-28T12:00:00+08:00      \t 溫度：29  \n"
     ]
    }
   ],
   "source": [
    "# 2. 請取出每一個地區所記錄的第一個時間點跟溫度\n",
    "\n",
    "d2 = d['cwbopendata']['dataset']['locations']['location']\n",
    "\n",
    "for location in range(0, len(d2)):\n",
    "    locat_name = d2[location]['locationName'] \n",
    "    locat_record = d2[location]['weatherElement'][0]['time'][0]['dataTime']\n",
    "    locat_value = d2[location]['weatherElement'][0]['time'][0]['elementValue']['value']\n",
    "   # print(d2[location]['locationName'] + '   ' + d2[location]['weatherElement'][0]['time'][0]['dataTime'] \n",
    "   #       + '   ' + d2[location]['weatherElement'][0]['time'][0]['elementValue']['value'])\n",
    "    \n",
    "    #print(\"{0:10} 時間：{1:30} 溫度：{2:4}\".format(locat_name, locat_record, locat_value))\n",
    "    print(\" %-5s \\t 時間：%-*s \\t 溫度：%-4s\"  %(locat_name, 30, locat_record, locat_value) )\n",
    "\n"
   ]
  },
  {
   "cell_type": "code",
   "execution_count": null,
   "metadata": {},
   "outputs": [],
   "source": [
    "# print(d['cwbopendata']['dataset']['locations']['location'][0]) #換地區\n",
    "# print(d['cwbopendata']['dataset']['locations']['location'][0]['weatherElement'][0]) #溫度\n",
    "print(d['cwbopendata']['dataset']['locations']['location'][0]['weatherElement'][0]['time'][0]['dataTime']) #換第幾筆溫度資料\n",
    "print(d['cwbopendata']['dataset']['locations']['location'][0]['weatherElement'][0]['time'][0]['elementValue']['value'])"
   ]
  },
  {
   "cell_type": "code",
   "execution_count": 114,
   "metadata": {},
   "outputs": [
    {
     "name": "stdout",
     "output_type": "stream",
     "text": [
      "1    時間：2019-06-28T12:00:00+08:00 \t 溫度：33  \n",
      "2    時間：2019-06-28T15:00:00+08:00 \t 溫度：33  \n",
      "3    時間：2019-06-28T18:00:00+08:00 \t 溫度：32  \n",
      "4    時間：2019-06-28T21:00:00+08:00 \t 溫度：30  \n",
      "5    時間：2019-06-29T00:00:00+08:00 \t 溫度：30  \n",
      "6    時間：2019-06-29T03:00:00+08:00 \t 溫度：29  \n",
      "7    時間：2019-06-29T06:00:00+08:00 \t 溫度：28  \n",
      "8    時間：2019-06-29T09:00:00+08:00 \t 溫度：31  \n",
      "9    時間：2019-06-29T12:00:00+08:00 \t 溫度：32  \n",
      "10   時間：2019-06-29T15:00:00+08:00 \t 溫度：32  \n",
      "11   時間：2019-06-29T18:00:00+08:00 \t 溫度：31  \n",
      "12   時間：2019-06-29T21:00:00+08:00 \t 溫度：30  \n",
      "13   時間：2019-06-30T00:00:00+08:00 \t 溫度：29  \n",
      "14   時間：2019-06-30T03:00:00+08:00 \t 溫度：28  \n",
      "15   時間：2019-06-30T06:00:00+08:00 \t 溫度：28  \n",
      "16   時間：2019-06-30T09:00:00+08:00 \t 溫度：31  \n",
      "17   時間：2019-06-30T12:00:00+08:00 \t 溫度：32  \n",
      "18   時間：2019-06-30T15:00:00+08:00 \t 溫度：32  \n",
      "19   時間：2019-06-30T18:00:00+08:00 \t 溫度：31  \n",
      "20   時間：2019-06-30T21:00:00+08:00 \t 溫度：30  \n",
      "21   時間：2019-07-01T00:00:00+08:00 \t 溫度：29  \n",
      "22   時間：2019-07-01T03:00:00+08:00 \t 溫度：29  \n",
      "23   時間：2019-07-01T06:00:00+08:00 \t 溫度：28  \n",
      "24   時間：2019-07-01T09:00:00+08:00 \t 溫度：31  \n"
     ]
    }
   ],
   "source": [
    "# 3. 請取出第一個地區所記錄的每一個時間點跟溫度\n",
    "d_locat1 = d['cwbopendata']['dataset']['locations']['location'][0]\n",
    "\n",
    "for num in range(0, len(d_locat1['weatherElement'][0]['time'])):\n",
    "    locat_record = d_locat1['weatherElement'][0]['time'][num]['dataTime']\n",
    "    locat_value = d_locat1['weatherElement'][0]['time'][num]['elementValue']['value']\n",
    "\n",
    "    print(\"%-4s 時間：%-20s \\t 溫度：%-4s\"  %(num+1, locat_record, locat_value) )\n",
    "\n"
   ]
  }
 ],
 "metadata": {
  "kernelspec": {
   "display_name": "Python 3",
   "language": "python",
   "name": "python3"
  },
  "language_info": {
   "codemirror_mode": {
    "name": "ipython",
    "version": 3
   },
   "file_extension": ".py",
   "mimetype": "text/x-python",
   "name": "python",
   "nbconvert_exporter": "python",
   "pygments_lexer": "ipython3",
   "version": "3.6.5"
  }
 },
 "nbformat": 4,
 "nbformat_minor": 2
}
