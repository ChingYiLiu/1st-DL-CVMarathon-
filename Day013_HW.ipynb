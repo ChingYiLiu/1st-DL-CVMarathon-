{
 "cells": [
  {
   "cell_type": "markdown",
   "metadata": {},
   "source": [
    "# PTT 網路爬蟲實作練習\n",
    "\n",
    "\n",
    "* 能夠利用 Request + BeatifulSour 撰寫爬蟲，並存放到合適的資料結構\n"
   ]
  },
  {
   "cell_type": "markdown",
   "metadata": {},
   "source": [
    "## 作業目標\n",
    "\n",
    "根據範例 ，完成以下問題：\n",
    "\n",
    "* ① 印出最新文章的「作者」「標題」「時間」\n",
    "* ② 印出第一頁所有文章的「作者」「標題」「時間」\n"
   ]
  },
  {
   "cell_type": "markdown",
   "metadata": {},
   "source": [
    "### ① 印出最新文章的「作者」「標題」「時間」"
   ]
  },
  {
   "cell_type": "code",
   "execution_count": 1,
   "metadata": {},
   "outputs": [
    {
     "name": "stderr",
     "output_type": "stream",
     "text": [
      "C:\\ProgramData\\Anaconda3\\lib\\site-packages\\requests\\__init__.py:80: RequestsDependencyWarning: urllib3 (1.25.9) or chardet (3.0.4) doesn't match a supported version!\n",
      "  RequestsDependencyWarning)\n"
     ]
    }
   ],
   "source": [
    "import pandas\n",
    "import re\n",
    "import requests\n",
    "from bs4 import BeautifulSoup"
   ]
  },
  {
   "cell_type": "code",
   "execution_count": 4,
   "metadata": {},
   "outputs": [],
   "source": [
    "url = 'https://www.ptt.cc/bbs/MobileComm/index.html'\n",
    "r = requests.get(url)\n",
    "soup = BeautifulSoup(r.text, \"html5lib\")"
   ]
  },
  {
   "cell_type": "code",
   "execution_count": 32,
   "metadata": {},
   "outputs": [],
   "source": [
    "d = soup.find(class_ = 'title').find('a')['href']\n",
    "r2 = requests.get('https://www.ptt.cc'+d )\n",
    "soup2 =BeautifulSoup(r2.text, \"html5lib\" )"
   ]
  },
  {
   "cell_type": "code",
   "execution_count": 40,
   "metadata": {},
   "outputs": [
    {
     "name": "stdout",
     "output_type": "stream",
     "text": [
      "Rex1992 (上善若水)\n",
      "[心得] 我買到盜版UAG殼!另附上兩年使用心得。\n",
      "Fri Sep 11 23:20:04 2020\n"
     ]
    }
   ],
   "source": [
    "#作者\n",
    "print(soup2.find(class_ = 'article-meta-value').text)\n",
    "#標題\n",
    "print(soup.find(class_ = 'title').text.replace('\\t', '').replace('\\n',''))\n",
    "#時間\n",
    "print(soup2.find_all(class_ = 'article-meta-value')[3].text)"
   ]
  },
  {
   "cell_type": "markdown",
   "metadata": {},
   "source": [
    "### ② 印出第一頁所有文章的「作者」「標題」「時間」"
   ]
  },
  {
   "cell_type": "code",
   "execution_count": 63,
   "metadata": {},
   "outputs": [],
   "source": [
    "data_new = pandas.DataFrame(columns = ['Author', 'Title', 'Time'])\n",
    "\n",
    "for i in range(0,len (soup.find_all(class_ = 'title'))):\n",
    "    title = soup.find_all(class_ = 'title')[i].find('a').text\n",
    "    author = soup.find_all(class_ = 'author')[i].text\n",
    "    date = soup.find_all(class_ = 'date')[i].text\n",
    "    data_new = data_new.append({'Author': author, 'Title':title, 'Time':date}, ignore_index=True)"
   ]
  },
  {
   "cell_type": "code",
   "execution_count": 64,
   "metadata": {},
   "outputs": [
    {
     "name": "stdout",
     "output_type": "stream",
     "text": [
      "         Author                                  Title   Time\n",
      "0       Rex1992              [心得] 我買到盜版UAG殼!另附上兩年使用心得。   9/11\n",
      "1        excape             Line mobile 無法用Line pay繳費？   9/11\n",
      "2      linlin76           [閒聊] note20 vs zf7p 白天晚上照片影片   9/11\n",
      "3       BadGame                    [閒聊] 印度 三星M51 開箱+評測   9/11\n",
      "4       edc8520                      [問題] ROG1手機內建的一首歌   9/11\n",
      "5        josiam                       [問題] 高通話，上網不用吃到飽   9/12\n",
      "6   jhoubaba830                [問題] 台星4G分享器 ASUS合勤選擇請益   9/12\n",
      "7       BadGame  [閒聊] Realme X50 5G vs 紅米Note 8P 測速+拍照   9/12\n",
      "8     ananyouhi                [問題] 請問pixel手機電池會耗損很快嗎？   9/12\n",
      "9    amilkamilk           [問題] 請問有人android 11可以root了嗎？   9/12\n",
      "10      a731977                          [問題] 三星直播手機推薦   9/12\n",
      "11      oppoR20                      [閒聊] 鴻蒙就是安卓骨換個皮而已   9/12\n",
      "12        StanH                      [閒聊] 剛換成OLED螢幕的手機   9/12\n",
      "13      denru01                      [問題] 第三方程式使用超廣角鏡頭   9/12\n",
      "14       deltaz               Re: [問題] Google原生鍵盤輸入~符號   9/12\n",
      "15      volvoxD                Re: [問題] Line 的聊天記錄無法搜尋   9/12\n",
      "16      frogbsd              [新聞] NCC：中華電信3G網路 2024年關閉   9/12\n",
      "17        olmtw        [新聞] Apple Watch 平價版 4 大細節流出！蘋果   9/12\n",
      "18      Kimaris                       [討論] Pixel 4a到貨了   9/12\n",
      "19       RG5678            [公告] MobileComm板規 20200605版   6/05\n",
      "20       RG5678                         [公告] 置底閒聊區 2.0   8/03\n",
      "21       RG5678                              [公告] 板主徵選   8/30\n"
     ]
    }
   ],
   "source": [
    "print(data_new)"
   ]
  },
  {
   "cell_type": "markdown",
   "metadata": {},
   "source": [
    "### ③ 試著爬爬看其他版的文章"
   ]
  },
  {
   "cell_type": "code",
   "execution_count": 66,
   "metadata": {},
   "outputs": [
    {
     "name": "stdout",
     "output_type": "stream",
     "text": [
      "wish15150507 (仙人掌)\n",
      "Re: [討論] 報備是必要的嗎？\n",
      "Fri Sep 11 21:00:46 2020\n"
     ]
    }
   ],
   "source": [
    "url = 'https://www.ptt.cc/bbs/Boy-Girl/index.html'\n",
    "r = requests.get(url)\n",
    "soup = BeautifulSoup(r.text, \"html5lib\")\n",
    "d = soup.find(class_ = 'title').find('a')['href']\n",
    "r2 = requests.get('https://www.ptt.cc'+d )\n",
    "soup2 =BeautifulSoup(r2.text, \"html5lib\" )\n",
    "#作者\n",
    "print(soup2.find(class_ = 'article-meta-value').text)\n",
    "#標題\n",
    "print(soup.find(class_ = 'title').text.replace('\\t', '').replace('\\n',''))\n",
    "#時間\n",
    "print(soup2.find_all(class_ = 'article-meta-value')[3].text)"
   ]
  }
 ],
 "metadata": {
  "kernelspec": {
   "display_name": "Python 3",
   "language": "python",
   "name": "python3"
  },
  "language_info": {
   "codemirror_mode": {
    "name": "ipython",
    "version": 3
   },
   "file_extension": ".py",
   "mimetype": "text/x-python",
   "name": "python",
   "nbconvert_exporter": "python",
   "pygments_lexer": "ipython3",
   "version": "3.6.5"
  }
 },
 "nbformat": 4,
 "nbformat_minor": 2
}
