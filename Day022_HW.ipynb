{
 "cells": [
  {
   "cell_type": "markdown",
   "metadata": {},
   "source": [
    "# 動態網頁爬蟲 - 使用 Selenium\n",
    "\n",
    "* 了解 Selenium 用於動態網頁爬蟲的原理\n",
    "* 能夠使用 Selenium 撰寫動態網頁爬蟲"
   ]
  },
  {
   "cell_type": "markdown",
   "metadata": {},
   "source": [
    "## 作業目標\n",
    "\n",
    "* 1. 根據範例使用 selenuim 取出 Hahow 網站中所有課程的資料，並用一個適合的資料結構儲存（Hint: 將所有資料存在一個變數當中取出）\n",
    "* 2. 剛剛的做法只能取出第一頁，試著取出所有頁面的資料。\n",
    "\n"
   ]
  },
  {
   "cell_type": "markdown",
   "metadata": {},
   "source": [
    "### 1. 根據範例使用 selenuim 取出 Hahow 網站中所有課程的資料，並用一個適合的資料結構儲存（Hint: 將所有資料存在一個變數當中取出）"
   ]
  },
  {
   "cell_type": "code",
   "execution_count": 2,
   "metadata": {},
   "outputs": [],
   "source": [
    "from selenium import webdriver\n",
    "from selenium.webdriver.support.ui import Select\n",
    "from bs4 import BeautifulSoup\n",
    "\n",
    "browser = webdriver.Chrome(executable_path='C:/ProgramData/Anaconda3/Lib/site-packages/chromedriver.exe')\n",
    "browser.get(\"https://hahow.in/courses\")"
   ]
  },
  {
   "cell_type": "code",
   "execution_count": 3,
   "metadata": {},
   "outputs": [],
   "source": [
    "# 取得資料（等瀏覽器資料出現後才執行）\n",
    "html_source = browser.page_source\n",
    "html_source\n",
    "\n",
    "# 取得資料\n",
    "html_source = browser.page_source\n",
    "soup = BeautifulSoup(html_source, 'html.parser')\n"
   ]
  },
  {
   "cell_type": "code",
   "execution_count": 12,
   "metadata": {},
   "outputs": [
    {
     "name": "stdout",
     "output_type": "stream",
     "text": [
      "['基礎情境練習課：建立你的英文文法邏輯腦', '藝用解剖學 2 - 凝望透視之眼 360 度全視野攻略', '新手能上手！居家健身，肌群練習一次到位', '婚禮企劃與主持入門課', '【折扣只到 10/29】黃瑽寧的 10 堂育兒必修課全系列', '【折扣只到 10/29】毛心潔的哺乳全攻略：觀念篇＋實作篇', '【折扣只到 10/29】鄧惠文的關係心理學：親子篇', '【折扣只到 10/29】10 堂課教出孩子的好情緒', '聽海苔熊「談」戀愛：剖析童話，療癒愛情', '【折扣只到 10/28】Python 進階課程：觀念、語法、專案、爬蟲', '龍師傅的台菜世界廚房', '萬用馭髮術全攻略 - 女神髮型養成班', '實境遊戲設計：打造好玩又有意義的情境體驗', '產品設計實戰：用Figma打造絕佳UI/UX', '許榮哲的故事課 - 三分鐘說 18 萬個故事', 'Rose 的色鉛筆插畫課 - 粉彩系午茶派對', '旅行攝影：按下快門，用攝影書寫故事', '占星之門安格斯｜十二宮位找出人生攻略', '一生必學的圍棋課—入門變達人', '台式冷便當｜不用蒸也能輕鬆帶的便當', '跟 YouTuber 莫彩曦學美國道地的說話習慣', '用 Python 理財：打造加密貨幣實戰策略', '總經投資必學，看懂美中歐三大央行政策！', '第一堂德語課：開啟德國留學之路']\n"
     ]
    }
   ],
   "source": [
    "course = []\n",
    "    \n",
    "for title in soup.find_all('h4', class_ = 'title marg-t-20 marg-b-10'):\n",
    "    course.append(title.text)\n",
    "\n",
    "print(course)"
   ]
  },
  {
   "cell_type": "code",
   "execution_count": 13,
   "metadata": {},
   "outputs": [],
   "source": [
    "browser.close()"
   ]
  },
  {
   "cell_type": "markdown",
   "metadata": {},
   "source": [
    "### 2. 剛剛的做法只能取出第一頁，試著取出所有頁面的資料。"
   ]
  },
  {
   "cell_type": "code",
   "execution_count": 14,
   "metadata": {},
   "outputs": [],
   "source": [
    "from selenium import webdriver\n",
    "from selenium.webdriver.support.ui import Select\n",
    "from bs4 import BeautifulSoup\n",
    "\n",
    "browser = webdriver.Chrome(executable_path='C:/ProgramData/Anaconda3/Lib/site-packages/chromedriver.exe')\n",
    "browser.get(\"https://hahow.in/courses\")"
   ]
  },
  {
   "cell_type": "code",
   "execution_count": 15,
   "metadata": {},
   "outputs": [],
   "source": [
    "# 取得資料（等瀏覽器資料出現後才執行）\n",
    "html_source = browser.page_source\n",
    "soup = BeautifulSoup(html_source, 'html.parser')\n"
   ]
  },
  {
   "cell_type": "code",
   "execution_count": 64,
   "metadata": {},
   "outputs": [
    {
     "data": {
      "text/plain": [
       "'23'"
      ]
     },
     "execution_count": 64,
     "metadata": {},
     "output_type": "execute_result"
    }
   ],
   "source": [
    "# 1. 先取出全部有幾頁\n",
    "import re\n",
    "soup.find_all('a', href = re.compile('/courses\\?page=\\d*$'))\n",
    "#soup.find_all('a', href = '/courses?page=23')\n",
    "n = len(soup.find_all('a', href = re.compile('/courses\\?page=\\d*$')))\n",
    "page = soup.find_all('a', href = re.compile('/courses\\?page=\\d*$'))[n-2].text\n",
    "\n",
    "page"
   ]
  },
  {
   "cell_type": "code",
   "execution_count": 98,
   "metadata": {},
   "outputs": [
    {
     "name": "stdout",
     "output_type": "stream",
     "text": [
      "基礎情境練習課：建立你的英文文法邏輯腦\n",
      "藝用解剖學 2 - 凝望透視之眼 360 度全視野攻略\n",
      "新手能上手！居家健身，肌群練習一次到位\n",
      "婚禮企劃與主持入門課\n",
      "【折扣只到 10/29】黃瑽寧的 10 堂育兒必修課全系列\n",
      "【折扣只到 10/29】毛心潔的哺乳全攻略：觀念篇＋實作篇\n",
      "【折扣只到 10/29】鄧惠文的關係心理學：親子篇\n",
      "【折扣只到 10/29】10 堂課教出孩子的好情緒\n",
      "聽海苔熊「談」戀愛：剖析童話，療癒愛情\n",
      "【折扣只到 10/28】Python 進階課程：觀念、語法、專案、爬蟲\n",
      "龍師傅的台菜世界廚房\n",
      "萬用馭髮術全攻略 - 女神髮型養成班\n",
      "實境遊戲設計：打造好玩又有意義的情境體驗\n",
      "產品設計實戰：用Figma打造絕佳UI/UX\n",
      "許榮哲的故事課 - 三分鐘說 18 萬個故事\n",
      "Rose 的色鉛筆插畫課 - 粉彩系午茶派對\n",
      "旅行攝影：按下快門，用攝影書寫故事\n",
      "占星之門安格斯｜十二宮位找出人生攻略\n",
      "一生必學的圍棋課—入門變達人\n",
      "台式冷便當｜不用蒸也能輕鬆帶的便當\n",
      "跟 YouTuber 莫彩曦學美國道地的說話習慣\n",
      "用 Python 理財：打造加密貨幣實戰策略\n",
      "總經投資必學，看懂美中歐三大央行政策！\n",
      "第一堂德語課：開啟德國留學之路\n",
      "行銷提案實戰：讓你的想法被一次買單\n",
      "每天十分鐘跳出自信與魅力：超好學街舞課！\n",
      "Podcast 全攻略：打造你的品牌和影響力\n",
      "凱蒂瑜珈：夢幻動作從頭學，開啟練習新里程\n",
      "六大實拍範例，商攝打光再精進\n",
      "24 單元入門投資科學 一次搞懂投資必備知識\n",
      "養個股兒子︱要存就存冷門股\n",
      "Unity+Fungus 免程式製作你的文字冒險遊戲\n",
      "作品集必備！Mockup 模擬圖合成術\n",
      "小錢投資大公司，受用一生美股投資觀念\n",
      "冠軍 DJ DinPei－帶你從零開始成為專業 DJ\n",
      "女性專屬！筋肉媽媽的高效增肌減脂課\n",
      "寫一手西洋書法美字：銅版體習字課\n",
      "服飾批貨課：線上批購心法讓你低庫存高利潤\n",
      "一變應萬變：RWD 響應式網頁設計\n",
      "精通 Bootstrap 4 - 開發超強不解釋\n",
      "使用 HTML、CSS 開發一個網站\n",
      "使用 jQuery 打造互動性網頁動畫效果\n",
      "職場必備的批判思考力：沉思力篇\n",
      "職場人必學的商業分析術\n",
      "產品數據分析 - 打造網路產品的決策引擎\n",
      "做圖啦！設計省攻略：品牌應用新手速成\n",
      "我的設計超美感 – C4D 視覺密碼懶人包\n",
      "從零開始，ob11/黏土娃娃衣製作教學\n",
      "用攝影打造第二人生｜讓熱情全職為你工作\n",
      "6五3的書法設計課：跳脫字帖的書寫自由式\n",
      "打電動也能賺錢：如何成為遊戲實況主？\n",
      "《當我們扯在一起》太陽馬戲團老師的扯鈴課\n",
      "代購創業實戰班：14 天開創你的電商副業\n",
      "Photoshop 合成必修 - 電影光影場景合成\n",
      "Podcast 新手攻略課程：0 到 1 必學指南\n",
      "韓式香氛蠟燭 - 證照級蠟燭技法\n",
      "Seagate 講堂 | 動態導演林呈軒教你做履歷\n",
      "Seagate 講堂 | 平面設計師顏伯駿教你做履歷\n",
      "Seagate 講堂 | 影像後製再現影像教你做履歷\n",
      "德文輕鬆學，零基礎也學得會的實用會話\n",
      "跑者必修！馬拉松完賽全方位跑典\n",
      "心智繪圖思考法：繪製你的思維地圖 \n",
      "在家CEO！在家打造量身訂做的個人事業\n",
      "王永福教學的技術：翻轉課堂的職業講師祕訣\n",
      "職場英文即戰力 :  一步步打造最佳自學途徑\n",
      "IG 風格策展人：創造你的光影烏托邦\n",
      "打造動態報表！雲端 Python 爬蟲資料流\n",
      "職場溝通管理學：打造團隊好關係與高績效\n",
      "深入淺出：專案管理方法-敏捷式開發 Scrum \n",
      "超級業務員的絕學：輕鬆說服任何人的銷售課\n",
      "為什麼你的影音內容，OTT 平台不買單？\n",
      "遠端工作必備：跨國英語 con-call 實戰力\n"
     ]
    }
   ],
   "source": [
    "# 2. 每頁都取出資料放入 courses\n",
    "\n",
    "courses = []\n",
    "for i in range(1, int(page)+1):\n",
    "    html = 'https://hahow.in/courses?page=' + str(i)\n",
    "    \n",
    "    browser = webdriver.Chrome(executable_path='C:/ProgramData/Anaconda3/Lib/site-packages/chromedriver.exe')\n",
    "    browser.get(html)\n",
    "    html_source = browser.page_source\n",
    "    soup = BeautifulSoup(html_source, 'html.parser')\n",
    "    \n",
    "    for title in soup.find_all('h4', class_ = 'title marg-t-20 marg-b-10'):\n",
    "        courses.append(title.text)\n",
    "        print(title.text)\n",
    "    browser.close()\n",
    "    \n"
   ]
  },
  {
   "cell_type": "code",
   "execution_count": 99,
   "metadata": {},
   "outputs": [
    {
     "name": "stdout",
     "output_type": "stream",
     "text": [
      "['基礎情境練習課：建立你的英文文法邏輯腦', '藝用解剖學 2 - 凝望透視之眼 360 度全視野攻略', '新手能上手！居家健身，肌群練習一次到位', '婚禮企劃與主持入門課', '【折扣只到 10/29】黃瑽寧的 10 堂育兒必修課全系列', '【折扣只到 10/29】毛心潔的哺乳全攻略：觀念篇＋實作篇', '【折扣只到 10/29】鄧惠文的關係心理學：親子篇', '【折扣只到 10/29】10 堂課教出孩子的好情緒', '聽海苔熊「談」戀愛：剖析童話，療癒愛情', '【折扣只到 10/28】Python 進階課程：觀念、語法、專案、爬蟲', '龍師傅的台菜世界廚房', '萬用馭髮術全攻略 - 女神髮型養成班', '實境遊戲設計：打造好玩又有意義的情境體驗', '產品設計實戰：用Figma打造絕佳UI/UX', '許榮哲的故事課 - 三分鐘說 18 萬個故事', 'Rose 的色鉛筆插畫課 - 粉彩系午茶派對', '旅行攝影：按下快門，用攝影書寫故事', '占星之門安格斯｜十二宮位找出人生攻略', '一生必學的圍棋課—入門變達人', '台式冷便當｜不用蒸也能輕鬆帶的便當', '跟 YouTuber 莫彩曦學美國道地的說話習慣', '用 Python 理財：打造加密貨幣實戰策略', '總經投資必學，看懂美中歐三大央行政策！', '第一堂德語課：開啟德國留學之路', '行銷提案實戰：讓你的想法被一次買單', '每天十分鐘跳出自信與魅力：超好學街舞課！', 'Podcast 全攻略：打造你的品牌和影響力', '凱蒂瑜珈：夢幻動作從頭學，開啟練習新里程', '六大實拍範例，商攝打光再精進', '24 單元入門投資科學 一次搞懂投資必備知識', '養個股兒子︱要存就存冷門股', 'Unity+Fungus 免程式製作你的文字冒險遊戲', '作品集必備！Mockup 模擬圖合成術', '小錢投資大公司，受用一生美股投資觀念', '冠軍 DJ DinPei－帶你從零開始成為專業 DJ', '女性專屬！筋肉媽媽的高效增肌減脂課', '寫一手西洋書法美字：銅版體習字課', '服飾批貨課：線上批購心法讓你低庫存高利潤', '一變應萬變：RWD 響應式網頁設計', '精通 Bootstrap 4 - 開發超強不解釋', '使用 HTML、CSS 開發一個網站', '使用 jQuery 打造互動性網頁動畫效果', '職場必備的批判思考力：沉思力篇', '職場人必學的商業分析術', '產品數據分析 - 打造網路產品的決策引擎', '做圖啦！設計省攻略：品牌應用新手速成', '我的設計超美感 – C4D 視覺密碼懶人包', '從零開始，ob11/黏土娃娃衣製作教學', '用攝影打造第二人生｜讓熱情全職為你工作', '6五3的書法設計課：跳脫字帖的書寫自由式', '打電動也能賺錢：如何成為遊戲實況主？', '《當我們扯在一起》太陽馬戲團老師的扯鈴課', '代購創業實戰班：14 天開創你的電商副業', 'Photoshop 合成必修 - 電影光影場景合成', 'Podcast 新手攻略課程：0 到 1 必學指南', '韓式香氛蠟燭 - 證照級蠟燭技法', 'Seagate 講堂 | 動態導演林呈軒教你做履歷', 'Seagate 講堂 | 平面設計師顏伯駿教你做履歷', 'Seagate 講堂 | 影像後製再現影像教你做履歷', '德文輕鬆學，零基礎也學得會的實用會話', '跑者必修！馬拉松完賽全方位跑典', '心智繪圖思考法：繪製你的思維地圖 ', '在家CEO！在家打造量身訂做的個人事業', '王永福教學的技術：翻轉課堂的職業講師祕訣', '職場英文即戰力 :  一步步打造最佳自學途徑', 'IG 風格策展人：創造你的光影烏托邦', '打造動態報表！雲端 Python 爬蟲資料流', '職場溝通管理學：打造團隊好關係與高績效', '深入淺出：專案管理方法-敏捷式開發 Scrum ', '超級業務員的絕學：輕鬆說服任何人的銷售課', '為什麼你的影音內容，OTT 平台不買單？', '遠端工作必備：跨國英語 con-call 實戰力']\n"
     ]
    }
   ],
   "source": [
    "# 3. done!\n",
    "\n",
    "print(courses)"
   ]
  },
  {
   "cell_type": "code",
   "execution_count": null,
   "metadata": {},
   "outputs": [],
   "source": []
  }
 ],
 "metadata": {
  "kernelspec": {
   "display_name": "Python 3",
   "language": "python",
   "name": "python3"
  },
  "language_info": {
   "codemirror_mode": {
    "name": "ipython",
    "version": 3
   },
   "file_extension": ".py",
   "mimetype": "text/x-python",
   "name": "python",
   "nbconvert_exporter": "python",
   "pygments_lexer": "ipython3",
   "version": "3.6.5"
  }
 },
 "nbformat": 4,
 "nbformat_minor": 2
}
