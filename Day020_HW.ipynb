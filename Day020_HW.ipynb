{
 "cells": [
  {
   "cell_type": "markdown",
   "metadata": {},
   "source": [
    "# 動態網頁爬蟲 - API Request\n",
    "\n",
    "* 了解 API Request 用於動態網頁爬蟲的原理\n",
    "* 能夠使用 API Request 撰寫動態網頁爬蟲\n",
    "\n",
    "\n",
    "\n",
    "\n"
   ]
  },
  {
   "cell_type": "markdown",
   "metadata": {},
   "source": [
    "## 作業目標\n",
    "\n",
    "* 根據範例的教學，去找出 Dcard 中呼叫的 API 當中，有一個跟「取得所有看板」是哪一個？並且利用 Requests 呼叫。\n"
   ]
  },
  {
   "cell_type": "markdown",
   "metadata": {},
   "source": [
    "* 請附上截圖：_______\n",
    "\n",
    "![]()\n",
    "\n",
    "(因為找不到所有看板的API，以即時熱門看板取代)"
   ]
  },
  {
   "cell_type": "markdown",
   "metadata": {},
   "source": [
    "![即時熱門看板](即時熱門看板.png)\n"
   ]
  },
  {
   "cell_type": "code",
   "execution_count": 2,
   "metadata": {},
   "outputs": [
    {
     "data": {
      "text/plain": [
       "[{'id': 'cbd5285f-3cba-4bfc-86d0-1ab52d201459',\n",
       "  'orderNum': 1,\n",
       "  'sensitiveSelection': False,\n",
       "  'name': '美妝',\n",
       "  'alias': 'makeup'},\n",
       " {'id': 'cd2959fe-5515-4c1e-bd35-1cd4c36b44f0',\n",
       "  'orderNum': 2,\n",
       "  'sensitiveSelection': False,\n",
       "  'name': '新生季',\n",
       "  'alias': 'freshman'},\n",
       " {'id': '214c3abb-6cf8-44b2-86b3-c156a9c5bbf2',\n",
       "  'orderNum': 3,\n",
       "  'sensitiveSelection': False,\n",
       "  'name': 'NBA',\n",
       "  'alias': 'nba'},\n",
       " {'id': 'be1a095b-175e-4523-9e06-66a05d939676',\n",
       "  'orderNum': 5,\n",
       "  'sensitiveSelection': False,\n",
       "  'name': '穿搭',\n",
       "  'alias': 'dressup'},\n",
       " {'id': '2cffc289-d332-4d4e-95a7-cae58a1778aa',\n",
       "  'orderNum': 13,\n",
       "  'sensitiveSelection': False,\n",
       "  'name': '重機',\n",
       "  'alias': 'heavy_motorcycle'},\n",
       " {'id': '23082c2f-c19d-456c-a805-1e6ac0a36c31',\n",
       "  'orderNum': 14,\n",
       "  'sensitiveSelection': False,\n",
       "  'name': '品酒',\n",
       "  'alias': 'alcohol'},\n",
       " {'id': 'e91644fb-5a42-42e0-9526-61b1e133559d',\n",
       "  'orderNum': 15,\n",
       "  'sensitiveSelection': False,\n",
       "  'name': '區塊鏈',\n",
       "  'alias': 'blockchain'},\n",
       " {'id': '4fb1cbbf-57e3-46d0-9242-eb99fc0beea8',\n",
       "  'orderNum': 16,\n",
       "  'sensitiveSelection': False,\n",
       "  'name': '創業',\n",
       "  'alias': 'startup'},\n",
       " {'id': 'e064be2b-13f8-468a-9e88-b357170a0e33',\n",
       "  'orderNum': 17,\n",
       "  'sensitiveSelection': False,\n",
       "  'name': '第五人格',\n",
       "  'alias': 'identity_v'},\n",
       " {'id': '3f0027cd-fe1c-44a3-bfea-de14a291da66',\n",
       "  'orderNum': 18,\n",
       "  'sensitiveSelection': False,\n",
       "  'name': 'BLACKPINK',\n",
       "  'alias': 'blackpink'},\n",
       " {'id': '52c22d4d-58ba-4dbf-862e-bbc5928a2eba',\n",
       "  'orderNum': 19,\n",
       "  'sensitiveSelection': False,\n",
       "  'name': 'Super Junior',\n",
       "  'alias': 'superjunior'},\n",
       " {'id': '6f430a9c-8e0a-43fd-be03-db4706c957e5',\n",
       "  'orderNum': 20,\n",
       "  'sensitiveSelection': False,\n",
       "  'name': '衝浪',\n",
       "  'alias': 'surfing'},\n",
       " {'id': '628f3897-3548-482a-8271-d53aa82a0b53',\n",
       "  'orderNum': 21,\n",
       "  'sensitiveSelection': False,\n",
       "  'name': '泰國影視',\n",
       "  'alias': 'th_series'},\n",
       " {'id': '3bceb81c-574e-4a96-8050-4df56096d0df',\n",
       "  'orderNum': 22,\n",
       "  'sensitiveSelection': False,\n",
       "  'name': '理財',\n",
       "  'alias': 'money'},\n",
       " {'id': '1ce3ebca-8701-42d5-b14c-076fc629bc8e',\n",
       "  'orderNum': 23,\n",
       "  'sensitiveSelection': True,\n",
       "  'name': '西斯',\n",
       "  'alias': 'sex'}]"
      ]
     },
     "execution_count": 2,
     "metadata": {},
     "output_type": "execute_result"
    }
   ],
   "source": [
    "import requests\n",
    "import json\n",
    "\n",
    "r = requests.get('https://www.dcard.tw/service/api/v2/selections/forums/TW?sensitiveSelection=true')\n",
    "d = json.loads(r.text)\n",
    "\n",
    "d"
   ]
  },
  {
   "cell_type": "code",
   "execution_count": null,
   "metadata": {},
   "outputs": [],
   "source": []
  },
  {
   "cell_type": "code",
   "execution_count": null,
   "metadata": {},
   "outputs": [],
   "source": []
  }
 ],
 "metadata": {
  "kernelspec": {
   "display_name": "Python 3",
   "language": "python",
   "name": "python3"
  },
  "language_info": {
   "codemirror_mode": {
    "name": "ipython",
    "version": 3
   },
   "file_extension": ".py",
   "mimetype": "text/x-python",
   "name": "python",
   "nbconvert_exporter": "python",
   "pygments_lexer": "ipython3",
   "version": "3.6.5"
  }
 },
 "nbformat": 4,
 "nbformat_minor": 2
}
