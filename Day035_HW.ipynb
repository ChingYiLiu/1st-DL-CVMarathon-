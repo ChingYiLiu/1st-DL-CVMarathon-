{
 "cells": [
  {
   "cell_type": "markdown",
   "metadata": {},
   "source": [
    "# 加速：多線程爬蟲\n",
    "\n",
    "\n",
    "\n",
    "* 了解知乎 API 使用方式與回傳內容\n",
    "* 撰寫程式存取 API 且添加標頭"
   ]
  },
  {
   "cell_type": "markdown",
   "metadata": {},
   "source": [
    "## 作業目標\n",
    "\n",
    "* 找一個之前實作過的爬蟲改用多線程改寫，比較前後時間的差異。\n",
    "\n",
    "\n",
    "\n"
   ]
  },
  {
   "cell_type": "code",
   "execution_count": 1,
   "metadata": {},
   "outputs": [
    {
     "name": "stderr",
     "output_type": "stream",
     "text": [
      "C:\\ProgramData\\Anaconda3\\lib\\site-packages\\requests\\__init__.py:80: RequestsDependencyWarning: urllib3 (1.25.9) or chardet (3.0.4) doesn't match a supported version!\n",
      "  RequestsDependencyWarning)\n"
     ]
    }
   ],
   "source": [
    "import time\n",
    "import requests\n",
    "import random\n",
    "from bs4 import BeautifulSoup\n",
    "import pandas as pd\n",
    "import re\n",
    "import _thread"
   ]
  },
  {
   "cell_type": "code",
   "execution_count": 3,
   "metadata": {},
   "outputs": [],
   "source": [
    "websites = 'https://free-proxy-list.net/'\n",
    "headers = {'User-Agent': 'Mozilla/5.0 (Windows NT 10.0; Win64; x64) AppleWebKit/537.36 (KHTML, like Gecko) Chrome/88.0.4324.104 Safari/537.36'}\n",
    "\n",
    "proxy_ips = []\n",
    "\n",
    "resp = requests.get(websites, headers = headers)\n",
    "html = BeautifulSoup(resp.text,  \"lxml\")\n",
    "\n",
    "x = html.find('tbody').find_all('tr')\n",
    "ip = ''\n",
    "ip_last = ''\n",
    "ip_final = ''\n",
    "\n",
    "for tr in x[:10]:\n",
    "    ip = tr.find_all('td')[0].text\n",
    "    ip_last = tr.find_all('td')[1].text\n",
    "    ip_final = ip + ':' + ip_last\n",
    "    proxy_ips.append(ip_final)"
   ]
  },
  {
   "cell_type": "code",
   "execution_count": 4,
   "metadata": {},
   "outputs": [
    {
     "data": {
      "text/plain": [
       "['161.202.226.194:80',\n",
       " '78.42.42.41:8080',\n",
       " '1.226.23.121:80',\n",
       " '134.209.29.120:8080',\n",
       " '5.252.161.48:8080',\n",
       " '191.101.39.27:80',\n",
       " '37.49.127.234:8080',\n",
       " '89.221.223.204:80',\n",
       " '103.86.155.102:55443',\n",
       " '132.145.18.53:80']"
      ]
     },
     "execution_count": 4,
     "metadata": {},
     "output_type": "execute_result"
    }
   ],
   "source": [
    "proxy_ips"
   ]
  },
  {
   "cell_type": "code",
   "execution_count": 7,
   "metadata": {},
   "outputs": [
    {
     "name": "stdout",
     "output_type": "stream",
     "text": [
      "Use 161.202.226.194:80\n",
      "Fail\n",
      "Use 78.42.42.41:8080\n",
      "Fail\n",
      "Use 1.226.23.121:80\n",
      "Fail\n",
      "Use 134.209.29.120:8080\n",
      "Your IP address: 134.209.29.120\n",
      "Use 5.252.161.48:8080\n",
      "Your IP address: 5.252.161.48\n",
      "Use 191.101.39.27:80\n",
      "Your IP address: 191.101.39.27\n",
      "Use 37.49.127.234:8080\n",
      "Fail\n",
      "Use 89.221.223.204:80\n",
      "Your IP address: 89.221.223.234\n",
      "Use 103.86.155.102:55443\n",
      "Fail\n",
      "Use 132.145.18.53:80\n",
      "Fail\n",
      "原程式碼所需時間： 37.79351830482483\n"
     ]
    }
   ],
   "source": [
    "# 原始程式碼\n",
    "startTime = time.time()\n",
    "\n",
    "for url in proxy_ips:\n",
    "    print('Use', url)\n",
    "    try:\n",
    "        resp = requests.get('http://ip.filefab.com/index.php',\n",
    "                        proxies={'http': url, 'https': url}, timeout=5)\n",
    "        soup = BeautifulSoup(resp.text, 'html5lib')\n",
    "        print(soup.find('h1', id='ipd').text.strip())\n",
    "    except:\n",
    "        print('Fail')\n",
    "        \n",
    "finishTime = time.time()\n",
    "print('原程式碼所需時間：', finishTime - startTime)"
   ]
  },
  {
   "cell_type": "code",
   "execution_count": 13,
   "metadata": {},
   "outputs": [
    {
     "name": "stdout",
     "output_type": "stream",
     "text": [
      "Use 161.202.226.194:80\n",
      "Use 37.49.127.234:8080\n",
      "Use 191.101.39.27:80\n",
      "Use 132.145.18.53:80\n",
      "UseUse 78.42.42.41:8080\n",
      "Use 134.209.29.120:8080\n",
      "UseUseUse 5.252.161.48:8080 103.86.155.102:55443\n",
      "  1.226.23.121:80\n",
      "89.221.223.204:80\n",
      "\n",
      "Fail\n",
      "Fail\n",
      "Your IP address: 5.252.161.48\n",
      "Your IP address: 191.101.39.27\n",
      "Your IP address: 134.209.29.120\n",
      "Fail\n",
      "Your IP address: 89.221.223.234\n",
      "Fail\n",
      "Fail\n",
      "Fail\n"
     ]
    }
   ],
   "source": [
    "# 多工處理程式碼\n",
    "def get_url(url):\n",
    "    print('Use', url)\n",
    "    try:\n",
    "        resp = requests.get('http://ip.filefab.com/index.php',\n",
    "                        proxies={'http': url, 'https': url}, timeout=5)\n",
    "        soup = BeautifulSoup(resp.text, 'html5lib')\n",
    "        print(soup.find('h1', id = 'ipd').text.strip())\n",
    "    except:\n",
    "        print('Fail')\n",
    "    \n",
    "\n",
    "startTime = time.time()\n",
    "\n",
    "for url in proxy_ips:\n",
    "    _thread.start_new_thread( get_url, (url,) )\n",
    "    \n",
    "finishTime = time.time()\n"
   ]
  },
  {
   "cell_type": "code",
   "execution_count": 14,
   "metadata": {},
   "outputs": [
    {
     "name": "stdout",
     "output_type": "stream",
     "text": [
      "多工處理所需時間： 0.001998424530029297\n"
     ]
    }
   ],
   "source": [
    "print('多工處理所需時間：', finishTime - startTime)"
   ]
  },
  {
   "cell_type": "code",
   "execution_count": null,
   "metadata": {},
   "outputs": [],
   "source": []
  }
 ],
 "metadata": {
  "colab": {
   "name": "homework.ipynb",
   "provenance": []
  },
  "kernelspec": {
   "display_name": "Python 3",
   "language": "python",
   "name": "python3"
  },
  "language_info": {
   "codemirror_mode": {
    "name": "ipython",
    "version": 3
   },
   "file_extension": ".py",
   "mimetype": "text/x-python",
   "name": "python",
   "nbconvert_exporter": "python",
   "pygments_lexer": "ipython3",
   "version": "3.6.5"
  }
 },
 "nbformat": 4,
 "nbformat_minor": 1
}
