{
 "cells": [
  {
   "cell_type": "markdown",
   "metadata": {
    "colab_type": "text",
    "id": "I8CoX4R7VoCd"
   },
   "source": [
    "# 反爬：代理伺服器/IP\n",
    "\n",
    "* 了解「IP 黑/白名單」的反爬蟲機制\n",
    "* 「IP 黑/白名單」反爬蟲的因應策略"
   ]
  },
  {
   "cell_type": "markdown",
   "metadata": {
    "colab_type": "text",
    "id": "n-3DZ_r5VoCe"
   },
   "source": [
    "## 作業目標\n",
    "\n",
    "* 目前程式中的 proxy_ips 是手動輸入的，請根據 https://free-proxy-list.net/ 寫一個可自動化抓取可用 Proxy 的 proxy_ips。\n",
    "\n",
    "\n"
   ]
  },
  {
   "cell_type": "code",
   "execution_count": 87,
   "metadata": {},
   "outputs": [],
   "source": [
    "import time\n",
    "import requests\n",
    "import random\n",
    "from bs4 import BeautifulSoup\n",
    "import pandas as pd\n",
    "import re"
   ]
  },
  {
   "cell_type": "code",
   "execution_count": 64,
   "metadata": {},
   "outputs": [],
   "source": [
    "websites = 'https://free-proxy-list.net/'\n",
    "headers = {'User-Agent': 'Mozilla/5.0 (Windows NT 10.0; Win64; x64) AppleWebKit/537.36 (KHTML, like Gecko) Chrome/88.0.4324.104 Safari/537.36'}"
   ]
  },
  {
   "cell_type": "code",
   "execution_count": 83,
   "metadata": {
    "colab": {},
    "colab_type": "code",
    "id": "iny-9heBVoCf",
    "scrolled": false
   },
   "outputs": [],
   "source": [
    "proxy_ips = []\n",
    "\n",
    "resp = requests.get(websites, headers = headers)\n",
    "html = BeautifulSoup(resp.text,  \"lxml\")\n"
   ]
  },
  {
   "cell_type": "code",
   "execution_count": 84,
   "metadata": {},
   "outputs": [
    {
     "name": "stdout",
     "output_type": "stream",
     "text": [
      "44380\n",
      "<tr><td>83.171.98.129</td><td>44380</td><td>RU</td><td class=\"hm\">Russian Federation</td><td>elite proxy</td><td class=\"hm\">no</td><td class=\"hx\">no</td><td class=\"hm\">1 minute ago</td></tr>\n"
     ]
    }
   ],
   "source": [
    "print(html.find('tbody').find_all('tr')[1].find_all('td')[1].text)\n",
    "print(html.find('tbody').find_all('tr')[1])\n",
    "#print(html.find_all('td', text = re.compile('(\\d)$')))"
   ]
  },
  {
   "cell_type": "code",
   "execution_count": 85,
   "metadata": {},
   "outputs": [],
   "source": [
    "x = html.find('tbody').find_all('tr')\n",
    "ip = ''\n",
    "ip_last = ''\n",
    "ip_final = ''\n",
    "\n",
    "for tr in x[:50]:\n",
    "    ip = tr.find_all('td')[0].text\n",
    "    ip_last = tr.find_all('td')[1].text\n",
    "    ip_final = ip + ':' + ip_last\n",
    "    proxy_ips.append(ip_final)\n"
   ]
  },
  {
   "cell_type": "code",
   "execution_count": 88,
   "metadata": {
    "colab": {},
    "colab_type": "code",
    "id": "75dIsHjiVoCi"
   },
   "outputs": [
    {
     "name": "stdout",
     "output_type": "stream",
     "text": [
      "Use 95.111.134.122:32345\n",
      "Fail\n",
      "Use 64.4.94.129:80\n",
      "Fail\n",
      "Use 161.35.110.195:3128\n",
      "Your IP address: 161.35.110.195\n",
      "Use 103.87.170.107:46898\n",
      "Fail\n",
      "Use 14.63.227.88:80\n",
      "Fail\n",
      "Use 182.52.90.42:51657\n",
      "Fail\n",
      "Use 103.13.132.206:55443\n",
      "Fail\n",
      "Use 89.186.193.238:80\n",
      "Fail\n",
      "Use 95.67.65.18:53281\n",
      "Fail\n",
      "Use 95.67.65.18:53281\n",
      "Fail\n"
     ]
    }
   ],
   "source": [
    "for i in range(10):\n",
    "    ip = random.choice(proxy_ips)\n",
    "    print('Use', ip)\n",
    "    try:\n",
    "        resp = requests.get('http://ip.filefab.com/index.php',\n",
    "                        proxies={'http': ip, 'https': ip}, timeout=10)\n",
    "        soup = BeautifulSoup(resp.text, 'html5lib')\n",
    "        print(soup.find('h1', id='ipd').text.strip())\n",
    "    except:\n",
    "        print('Fail')"
   ]
  },
  {
   "cell_type": "code",
   "execution_count": null,
   "metadata": {},
   "outputs": [],
   "source": []
  }
 ],
 "metadata": {
  "colab": {
   "name": "homework.ipynb",
   "provenance": []
  },
  "kernelspec": {
   "display_name": "Python 3",
   "language": "python",
   "name": "python3"
  },
  "language_info": {
   "codemirror_mode": {
    "name": "ipython",
    "version": 3
   },
   "file_extension": ".py",
   "mimetype": "text/x-python",
   "name": "python",
   "nbconvert_exporter": "python",
   "pygments_lexer": "ipython3",
   "version": "3.6.5"
  }
 },
 "nbformat": 4,
 "nbformat_minor": 1
}
