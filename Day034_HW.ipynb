{
 "cells": [
  {
   "cell_type": "markdown",
   "metadata": {
    "colab_type": "text",
    "id": "I8CoX4R7VoCd"
   },
   "source": [
    "# 反爬：代理伺服器/IP\n",
    "\n",
    "* 了解「IP 黑/白名單」的反爬蟲機制\n",
    "* 「IP 黑/白名單」反爬蟲的因應策略"
   ]
  },
  {
   "cell_type": "markdown",
   "metadata": {
    "colab_type": "text",
    "id": "n-3DZ_r5VoCe"
   },
   "source": [
    "## 作業目標\n",
    "\n",
    "* 目前程式中的 proxy_ips 是手動輸入的，請根據 https://free-proxy-list.net/ 寫一個可自動化抓取可用 Proxy 的 proxy_ips。\n",
    "\n",
    "\n"
   ]
  },
  {
   "cell_type": "code",
   "execution_count": 1,
   "metadata": {},
   "outputs": [
    {
     "name": "stderr",
     "output_type": "stream",
     "text": [
      "C:\\ProgramData\\Anaconda3\\lib\\site-packages\\requests\\__init__.py:80: RequestsDependencyWarning: urllib3 (1.25.9) or chardet (3.0.4) doesn't match a supported version!\n",
      "  RequestsDependencyWarning)\n"
     ]
    }
   ],
   "source": [
    "import time\n",
    "import requests\n",
    "from bs4 import BeautifulSoup\n",
    "import pandas as pd\n",
    "import re"
   ]
  },
  {
   "cell_type": "code",
   "execution_count": 2,
   "metadata": {},
   "outputs": [],
   "source": [
    "websites = 'https://free-proxy-list.net/'"
   ]
  },
  {
   "cell_type": "code",
   "execution_count": 5,
   "metadata": {
    "colab": {},
    "colab_type": "code",
    "id": "iny-9heBVoCf",
    "scrolled": false
   },
   "outputs": [
    {
     "name": "stdout",
     "output_type": "stream",
     "text": [
      "Rotating Open (4500 IP)\n"
     ]
    }
   ],
   "source": [
    "proxy_ips = []\n",
    "\n",
    "resp = requests.get(websites)\n",
    "html = BeautifulSoup(resp.text,  \"lxml\")\n",
    "print(html.find(string =re.compile('[0-225]') ))"
   ]
  },
  {
   "cell_type": "code",
   "execution_count": null,
   "metadata": {},
   "outputs": [],
   "source": [
    "print(html.find_all('td', text = re.compile('[0-225]\\.') ).text)\n"
   ]
  },
  {
   "cell_type": "code",
   "execution_count": 42,
   "metadata": {},
   "outputs": [
    {
     "name": "stdout",
     "output_type": "stream",
     "text": [
      "[<td>103.146.176.124</td>, <td>80</td>, <td>45.4.85.76</td>, <td>9991</td>, <td>115.178.103.230</td>, <td>55443</td>, <td>82.99.232.18</td>, <td>58689</td>, <td>128.14.163.94</td>, <td>3128</td>, <td>104.237.140.146</td>, <td>3128</td>, <td>210.212.253.227</td>, <td>8080</td>, <td>43.241.141.21</td>, <td>35101</td>, <td>37.120.200.102</td>, <td>80</td>, <td>37.120.200.104</td>, <td>80</td>, <td>37.120.200.106</td>, <td>80</td>, <td>37.120.200.110</td>, <td>80</td>, <td>37.120.200.108</td>, <td>80</td>, <td>193.149.225.181</td>, <td>80</td>, <td>191.101.39.170</td>, <td>80</td>, <td>14.207.63.197</td>, <td>3128</td>, <td>37.187.19.70</td>, <td>80</td>, <td>192.109.165.108</td>, <td>80</td>, <td>95.104.54.227</td>, <td>42119</td>, <td>178.66.182.76</td>, <td>3128</td>, <td>185.198.188.55</td>, <td>8080</td>, <td>88.99.134.61</td>, <td>8080</td>, <td>89.221.223.204</td>, <td>80</td>, <td>150.109.32.166</td>, <td>80</td>, <td>192.109.165.221</td>, <td>80</td>, <td>103.240.77.98</td>, <td>30093</td>, <td>45.235.216.112</td>, <td>8080</td>, <td>80.93.213.210</td>, <td>3133</td>, <td>191.101.39.157</td>, <td>80</td>, <td>13.234.143.58</td>, <td>443</td>, <td>95.31.119.210</td>, <td>31135</td>, <td>94.23.91.209</td>, <td>80</td>, <td>192.109.165.58</td>, <td>80</td>, <td>191.101.39.63</td>, <td>80</td>, <td>85.234.126.107</td>, <td>55555</td>, <td>203.198.94.132</td>, <td>80</td>, <td>192.117.146.110</td>, <td>80</td>, <td>118.172.181.147</td>, <td>34388</td>, <td>185.198.189.21</td>, <td>8080</td>, <td>191.101.39.174</td>, <td>80</td>, <td>77.38.21.239</td>, <td>8080</td>, <td>37.120.200.101</td>, <td>80</td>, <td>191.101.39.29</td>, <td>80</td>, <td>103.250.157.34</td>, <td>44611</td>, <td>8.210.120.182</td>, <td>8080</td>, <td>37.120.200.100</td>, <td>80</td>, <td>142.44.148.56</td>, <td>8080</td>, <td>51.75.147.41</td>, <td>3128</td>, <td>191.101.39.218</td>, <td>80</td>, <td>191.101.39.2</td>, <td>80</td>, <td>192.109.165.41</td>, <td>80</td>, <td>185.75.137.251</td>, <td>41258</td>, <td>192.109.165.124</td>, <td>80</td>, <td>191.101.39.238</td>, <td>80</td>, <td>139.99.102.114</td>, <td>80</td>, <td>192.109.165.239</td>, <td>80</td>, <td>5.189.133.231</td>, <td>80</td>, <td>191.101.39.54</td>, <td>80</td>, <td>103.78.254.78</td>, <td>80</td>, <td>185.198.188.51</td>, <td>8080</td>, <td>85.237.46.168</td>, <td>53468</td>, <td>212.227.164.87</td>, <td>80</td>, <td>152.67.24.187</td>, <td>80</td>, <td>178.33.251.230</td>, <td>3129</td>, <td>8.210.88.234</td>, <td>3128</td>, <td>level3</td>, <td>197.231.186.148</td>, <td>45578</td>, <td>94.205.254.82</td>, <td>3128</td>, <td>139.99.105.185</td>, <td>80</td>, <td>51.158.165.18</td>, <td>8811</td>, <td>194.60.65.59</td>, <td>80</td>, <td>165.22.22.63</td>, <td>80</td>, <td>1.10.189.84</td>, <td>35138</td>, <td>51.158.180.179</td>, <td>8811</td>, <td>89.187.177.98</td>, <td>80</td>, <td>180.250.12.10</td>, <td>80</td>, <td>191.101.39.185</td>, <td>80</td>, <td>89.187.177.107</td>, <td>80</td>, <td>198.50.163.192</td>, <td>3129</td>, <td>144.217.101.245</td>, <td>3129</td>, <td>51.158.119.88</td>, <td>8811</td>, <td>51.158.186.242</td>, <td>8811</td>, <td>36.85.31.62</td>, <td>80</td>, <td>167.172.109.12</td>, <td>36457</td>, <td>37.120.200.99</td>, <td>80</td>, <td>110.232.86.52</td>, <td>53281</td>, <td>37.120.200.107</td>, <td>80</td>, <td>136.243.254.196</td>, <td>80</td>, <td>37.120.200.105</td>, <td>80</td>, <td>37.120.200.109</td>, <td>80</td>, <td>37.120.200.103</td>, <td>80</td>, <td>191.101.39.201</td>, <td>80</td>, <td>191.101.39.24</td>, <td>80</td>, <td>200.62.96.71</td>, <td>80</td>, <td>136.233.215.137</td>, <td>80</td>, <td>192.109.165.55</td>, <td>80</td>, <td>47.52.239.156</td>, <td>3128</td>, <td>69.63.170.74</td>, <td>3128</td>, <td>78.47.16.54</td>, <td>80</td>, <td>51.75.147.43</td>, <td>3128</td>, <td>80.48.119.28</td>, <td>8080</td>, <td>202.29.222.254</td>, <td>8080</td>, <td>level3</td>, <td>36.37.177.186</td>, <td>8080</td>, <td>125.27.251.206</td>, <td>50817</td>, <td>80.249.146.135</td>, <td>80</td>, <td>192.109.165.129</td>, <td>80</td>, <td>103.150.174.34</td>, <td>80</td>, <td>77.232.167.200</td>, <td>47211</td>, <td>202.142.184.166</td>, <td>53731</td>, <td>198.211.100.174</td>, <td>3128</td>, <td>185.253.184.106</td>, <td>38434</td>, <td>51.75.147.35</td>, <td>3128</td>, <td>5.234.163.121</td>, <td>8080</td>, <td>103.21.160.10</td>, <td>35101</td>, <td>95.137.240.30</td>, <td>60030</td>, <td>62.210.69.176</td>, <td>5566</td>, <td>1.186.242.12</td>, <td>39098</td>, <td>125.141.117.38</td>, <td>80</td>, <td>188.163.170.130</td>, <td>41209</td>, <td>51.254.237.77</td>, <td>3129</td>, <td>95.208.208.237</td>, <td>8080</td>, <td>82.212.62.30</td>, <td>8080</td>, <td>185.198.188.48</td>, <td>8080</td>, <td>45.63.51.89</td>, <td>81</td>, <td>20.50.107.111</td>, <td>80</td>, <td>191.101.39.193</td>, <td>80</td>, <td>193.149.225.224</td>, <td>80</td>, <td>191.101.39.191</td>, <td>80</td>, <td>191.101.39.154</td>, <td>80</td>, <td>191.101.39.226</td>, <td>80</td>, <td>191.101.39.118</td>, <td>80</td>, <td>161.35.70.249</td>, <td>8080</td>, <td>5.252.161.48</td>, <td>3128</td>, <td>139.59.1.14</td>, <td>3128</td>, <td>102.129.249.120</td>, <td>8080</td>, <td>188.165.16.230</td>, <td>3129</td>, <td>104.45.128.122</td>, <td>80</td>, <td>84.52.110.36</td>, <td>38674</td>, <td>167.71.5.83</td>, <td>8080</td>, <td>154.16.202.22</td>, <td>3128</td>, <td>37.49.127.229</td>, <td>8080</td>, <td>92.138.65.51</td>, <td>80</td>, <td>91.121.84.96</td>, <td>80</td>, <td>88.198.24.108</td>, <td>8080</td>, <td>159.203.61.169</td>, <td>3128</td>, <td>176.9.119.170</td>, <td>8080</td>, <td>185.142.67.23</td>, <td>8080</td>, <td>51.81.82.175</td>, <td>80</td>, <td>3.134.246.118</td>, <td>80</td>, <td>180.178.102.174</td>, <td>55443</td>, <td>90.189.116.152</td>, <td>3128</td>, <td>154.72.204.122</td>, <td>8080</td>, <td>37.111.42.210</td>, <td>8080</td>, <td>67.211.217.172</td>, <td>8889</td>, <td>162.144.48.139</td>, <td>3838</td>, <td>52.69.19.32</td>, <td>80</td>, <td>64.4.94.129</td>, <td>80</td>, <td>37.49.127.238</td>, <td>8080</td>, <td>37.49.127.234</td>, <td>8080</td>, <td>103.250.157.43</td>, <td>6666</td>, <td>139.162.41.219</td>, <td>8889</td>, <td>123.253.36.99</td>, <td>8080</td>, <td>173.212.202.65</td>, <td>80</td>, <td>40.121.91.147</td>, <td>80</td>, <td>181.129.141.2</td>, <td>808</td>, <td>192.109.165.114</td>, <td>80</td>, <td>154.16.63.16</td>, <td>3128</td>, <td>206.189.37.192</td>, <td>80</td>, <td>36.92.128.11</td>, <td>55443</td>, <td>46.5.252.70</td>, <td>8080</td>, <td>91.89.89.11</td>, <td>8080</td>, <td>217.8.51.206</td>, <td>8080</td>, <td>149.172.255.9</td>, <td>8080</td>, <td>3.138.189.49</td>, <td>80</td>, <td>91.89.89.9</td>, <td>8080</td>, <td>89.187.177.91</td>, <td>80</td>, <td>162.144.46.168</td>, <td>3838</td>, <td>46.237.255.3</td>, <td>8080</td>, <td>134.3.255.7</td>, <td>8080</td>, <td>109.193.195.2</td>, <td>8080</td>, <td>51.158.172.165</td>, <td>8811</td>, <td>51.158.68.68</td>, <td>8811</td>, <td>82.212.62.24</td>, <td>8080</td>, <td>79.110.52.243</td>, <td>3128</td>, <td>134.3.255.9</td>, <td>8080</td>, <td>46.5.252.56</td>, <td>8080</td>, <td>193.56.255.131</td>, <td>3128</td>, <td>142.93.113.36</td>, <td>1080</td>, <td>level3</td>, <td>101.51.243.21</td>, <td>8080</td>, <td>level3</td>, <td>103.209.230.129</td>, <td>8080</td>, <td>level3</td>, <td>202.141.247.42</td>, <td>8080</td>, <td>level3</td>, <td>103.241.227.100</td>, <td>6666</td>, <td>195.158.3.198</td>, <td>3128</td>, <td>139.59.116.116</td>, <td>8118</td>, <td>191.101.39.121</td>, <td>80</td>, <td>197.242.206.64</td>, <td>41948</td>, <td>43.224.10.26</td>, <td>6666</td>, <td>89.187.177.106</td>, <td>80</td>, <td>128.199.202.122</td>, <td>3128</td>, <td>165.232.32.173</td>, <td>3128</td>, <td>118.172.201.89</td>, <td>39818</td>, <td>125.27.251.249</td>, <td>50890</td>, <td>46.4.96.137</td>, <td>3128</td>, <td>139.162.78.109</td>, <td>8080</td>, <td>203.209.118.153</td>, <td>80</td>, <td>176.9.75.42</td>, <td>8080</td>, <td>103.78.213.226</td>, <td>45163</td>, <td>187.130.139.197</td>, <td>8080</td>, <td>37.49.127.232</td>, <td>8080</td>, <td>47.88.7.18</td>, <td>8088</td>, <td>103.100.96.174</td>, <td>55443</td>, <td>95.33.154.248</td>, <td>80</td>, <td>122.15.211.125</td>, <td>80</td>, <td>149.172.255.3</td>, <td>8080</td>, <td>150.107.31.176</td>, <td>8080</td>, <td>52.42.249.69</td>, <td>80</td>, <td>185.198.188.50</td>, <td>8080</td>, <td>36.91.97.228</td>, <td>8080</td>, <td>132.145.18.53</td>, <td>80</td>, <td>65.184.156.234</td>, <td>52981</td>, <td>36.89.218.67</td>, <td>8889</td>, <td>109.167.134.253</td>, <td>30710</td>, <td>136.232.209.70</td>, <td>47423</td>, <td>201.217.245.229</td>, <td>49160</td>, <td>185.52.71.1</td>, <td>80</td>, <td>52.74.18.115</td>, <td>80</td>, <td>89.187.177.101</td>, <td>80</td>, <td>89.187.177.87</td>, <td>80</td>, <td>103.31.251.17</td>, <td>8080</td>, <td>161.35.4.201</td>, <td>80</td>, <td>161.202.226.194</td>, <td>80</td>, <td>13.92.119.142</td>, <td>80</td>, <td>129.226.166.46</td>, <td>8888</td>, <td>191.96.42.80</td>, <td>8080</td>, <td>74.143.245.221</td>, <td>80</td>, <td>191.96.71.118</td>, <td>3128</td>, <td>67.225.164.154</td>, <td>80</td>, <td>89.187.177.100</td>, <td>80</td>, <td>134.3.255.4</td>, <td>8080</td>, <td>109.193.195.5</td>, <td>8080</td>, <td>103.115.14.156</td>, <td>80</td>, <td>95.208.208.234</td>, <td>8080</td>, <td>201.193.180.14</td>, <td>35746</td>, <td>81.163.42.4</td>, <td>41258</td>, <td>180.179.98.22</td>, <td>3128</td>, <td>145.239.121.218</td>, <td>3129</td>, <td>79.137.44.85</td>, <td>3129</td>, <td>162.144.48.236</td>, <td>3838</td>, <td>139.255.94.122</td>, <td>39635</td>, <td>185.198.188.49</td>, <td>8080</td>, <td>182.48.87.170</td>, <td>8080</td>, <td>115.75.1.184</td>, <td>8118</td>, <td>31.14.49.1</td>, <td>8080</td>, <td>217.8.51.201</td>, <td>8080</td>, <td>82.212.62.28</td>, <td>8080</td>, <td>104.238.81.186</td>, <td>56227</td>, <td>182.52.51.10</td>, <td>61124</td>, <td>209.97.150.167</td>, <td>3128</td>, <td>91.108.134.103</td>, <td>8080</td>, <td>134.209.29.120</td>, <td>8080</td>, <td>138.68.60.8</td>, <td>8080</td>, <td>103.115.14.155</td>, <td>80</td>, <td>185.198.188.52</td>, <td>8080</td>, <td>198.199.86.11</td>, <td>3128</td>, <td>89.20.135.204</td>, <td>10000</td>, <td>217.8.51.200</td>, <td>3128</td>, <td>162.144.34.109</td>, <td>3838</td>, <td>51.75.147.44</td>, <td>3128</td>, <td>95.208.208.230</td>, <td>8080</td>, <td>109.193.195.8</td>, <td>8080</td>, <td>103.115.14.41</td>, <td>80</td>, <td>88.198.50.103</td>, <td>8080</td>, <td>36.91.194.29</td>, <td>55443</td>, <td>117.58.245.114</td>, <td>40137</td>, <td>118.175.93.148</td>, <td>36744</td>, <td>103.124.137.173</td>, <td>3127</td>, <td>132.145.148.146</td>, <td>80</td>, <td>89.187.177.93</td>, <td>80</td>, <td>89.187.177.102</td>, <td>80</td>, <td>201.190.184.22</td>, <td>46740</td>, <td>62.149.181.125</td>, <td>5090</td>, <td>83.242.251.37</td>, <td>8080</td>, <td>109.86.182.203</td>, <td>3128</td>, <td>103.121.215.208</td>, <td>3127</td>, <td>167.99.146.95</td>, <td>8888</td>, <td>89.187.177.105</td>, <td>80</td>, <td>89.187.177.104</td>, <td>80</td>, <td>89.187.177.86</td>, <td>80</td>, <td>89.187.177.94</td>, <td>80</td>, <td>89.187.177.96</td>, <td>80</td>, <td>103.115.14.43</td>, <td>80</td>, <td>89.187.177.89</td>, <td>80</td>, <td>125.26.7.124</td>, <td>61642</td>, <td>162.214.92.202</td>, <td>80</td>, <td>37.49.127.226</td>, <td>8080</td>, <td>79.115.245.227</td>, <td>8080</td>, <td>41.217.219.53</td>, <td>31398</td>, <td>103.209.65.12</td>, <td>6666</td>, <td>1.2.254.185</td>, <td>8080</td>, <td>level3</td>, <td>1.20.99.89</td>, <td>32963</td>, <td>128.14.163.92</td>, <td>3128</td>, <td>2021-01-17</td>, <td>718</td>, <td>584</td>, <td>148</td>, <td>331</td>, <td>239</td>, <td>6571</td>, <td>2021-01-16</td>, <td>752</td>, <td>472</td>, <td>174</td>, <td>345</td>, <td>233</td>, <td>6554</td>, <td>2021-01-15</td>, <td>688</td>, <td>519</td>, <td>123</td>, <td>317</td>, <td>248</td>, <td>6621</td>, <td>2021-01-14</td>, <td>779</td>, <td>798</td>, <td>163</td>, <td>344</td>, <td>272</td>, <td>6612</td>, <td>2021-01-13</td>, <td>810</td>, <td>736</td>, <td>175</td>, <td>313</td>, <td>322</td>, <td>6693</td>, <td class=\"bg-warning\">748</td>, <td class=\"bg-warning\">621</td>, <td>156</td>, <td>330</td>, <td>262</td>, <td>6610</td>, <td class=\"bg-warning\">345</td>, <td class=\"bg-warning\">286</td>, <td>72</td>, <td>152</td>, <td>120</td>, <td>3050</td>, <td class=\"bg-warning\">115</td>, <td class=\"bg-warning\">95</td>, <td>24</td>, <td>50</td>, <td>40</td>, <td>1016</td>, <td class=\"bg-warning\" title=\"6550 IPs in 2456 Subnets\">6550</td>, <td class=\"bg-warning\" title=\"6550 IPs in 2456 Subnets\">2456</td>, <td class=\"bg-warning\" title=\"Asia=28.96%\">1897</td>, <td class=\"bg-warning\" title=\"South America=3.22%\">211</td>, <td class=\"bg-warning\" title=\"Europe=14.95%\">979</td>, <td class=\"bg-warning\" title=\"United States=50.03%\">3277</td>, <td title=\"China=15.22%\">997</td>, <td title=\"Russian Federation=6.09%\">399</td>, <td title=\"Indonesia=3.59%\">235</td>, <td title=\"India=2.15%\">141</td>, <td title=\"Thailand=1.73%\">113</td>, <td title=\"Spain=1.69%\">111</td>, <td title=\"Brazil=1.66%\">109</td>, <td title=\"Germany=1.40%\">92</td>, <td title=\"Singapore=1.08%\">71</td>, <td title=\"Bangladesh=1.07%\">70</td>, <td title=\"Seychelles=0.84%\">55</td>, <td title=\"Ukraine=0.84%\">55</td>, <td title=\"Slovakia=0.78%\">51</td>, <td title=\"Iran, Islamic Republic of=0.76%\">50</td>, <td title=\"Colombia=0.69%\">45</td>, <td title=\"United Kingdom=0.63%\">41</td>, <td title=\"France=0.58%\">38</td>, <td title=\"Korea, Republic of=0.49%\">32</td>, <td title=\"Ecuador=0.46%\">30</td>, <td title=\"South Africa=0.43%\">28</td>, <td title=\"Argentina=0.40%\">26</td>, <td title=\"Turkey=0.37%\">24</td>, <td title=\"Czech Republic=0.32%\">21</td>, <td title=\"Poland=0.32%\">21</td>, <td title=\"Mexico=0.32%\">21</td>, <td title=\"Pakistan=0.29%\">19</td>, <td title=\"Canada=0.29%\">19</td>, <td title=\"Netherlands=0.21%\">14</td>, <td title=\"Japan=0.20%\">13</td>, <td title=\"Vietnam=0.20%\">13</td>, <td title=\"Cambodia=0.18%\">12</td>, <td title=\"Hong Kong=0.17%\">11</td>, <td title=\"Bulgaria=0.17%\">11</td>, <td title=\"Nepal=0.17%\">11</td>, <td title=\"Albania=0.17%\">11</td>, <td title=\"Others=4.02%\">263</td>]\n"
     ]
    }
   ],
   "source": [
    "print(html.find_all('td', text = re.compile('(\\d)$')))"
   ]
  },
  {
   "cell_type": "code",
   "execution_count": 40,
   "metadata": {},
   "outputs": [],
   "source": [
    "ips = html.find_all('td', text = re.compile('(\\d).$'))\n",
    "ips_clean = str(ips).replace('</td>','').replace('<td>','').replace(' ','')"
   ]
  },
  {
   "cell_type": "code",
   "execution_count": 56,
   "metadata": {},
   "outputs": [
    {
     "data": {
      "text/plain": [
       "['72.252.4.25',\n",
       " '8080',\n",
       " '103.26.247.130',\n",
       " '8080',\n",
       " '112.78.170.250',\n",
       " '8080',\n",
       " '217.8.51.201',\n",
       " '8080',\n",
       " '157.230.103.189',\n",
       " '38433',\n",
       " '64.4.94.129',\n",
       " '80',\n",
       " '162.214.92.202',\n",
       " '80',\n",
       " '37.49.127.231',\n",
       " '8080',\n",
       " '190.152.17.62',\n",
       " '55443',\n",
       " '185.23.128.180',\n",
       " '3128',\n",
       " '37.49.127.226',\n",
       " '8080',\n",
       " '103.13.132.206',\n",
       " '55443',\n",
       " '45.82.245.34',\n",
       " '3128',\n",
       " '46.223.255.10',\n",
       " '8080',\n",
       " '187.243.240.54',\n",
       " '8080',\n",
       " '173.212.202.65',\n",
       " '80',\n",
       " '161.35.110.195',\n",
       " '3128',\n",
       " '103.109.58.110',\n",
       " '46523',\n",
       " '8.210.120.182',\n",
       " '8080',\n",
       " '91.184.82.85',\n",
       " '8080',\n",
       " '125.141.117.33',\n",
       " '80',\n",
       " '185.141.33.48',\n",
       " '3256',\n",
       " '74.143.245.221',\n",
       " '80',\n",
       " '167.71.41.173',\n",
       " '36349',\n",
       " '212.227.164.87',\n",
       " '80']"
      ]
     },
     "execution_count": 56,
     "metadata": {},
     "output_type": "execute_result"
    }
   ],
   "source": [
    "ips_clean.split(',')[2:52]"
   ]
  },
  {
   "cell_type": "code",
   "execution_count": 57,
   "metadata": {},
   "outputs": [],
   "source": [
    "ips_first = ips_clean.split(',')[2:51][0::2]\n",
    "ips_last = ips_clean.split(',')[2:51][1::2]\n"
   ]
  },
  {
   "cell_type": "code",
   "execution_count": 60,
   "metadata": {},
   "outputs": [
    {
     "data": {
      "text/plain": [
       "49"
      ]
     },
     "execution_count": 60,
     "metadata": {},
     "output_type": "execute_result"
    }
   ],
   "source": [
    " len(ips_clean.split(',')[2:51])"
   ]
  },
  {
   "cell_type": "code",
   "execution_count": 0,
   "metadata": {
    "colab": {},
    "colab_type": "code",
    "id": "75dIsHjiVoCi"
   },
   "outputs": [],
   "source": [
    "for i in range(10):\n",
    "    ip = random.choice(proxy_ips)\n",
    "    print('Use', ip)\n",
    "    try:\n",
    "        resp = requests.get('http://ip.filefab.com/index.php',\n",
    "                        proxies={'http': ip, 'https': ip}, timeout=10)\n",
    "        soup = BeautifulSoup(resp.text, 'html5lib')\n",
    "        print(soup.find('h1', id='ipd').text.strip())\n",
    "    except:\n",
    "        print('Fail')"
   ]
  }
 ],
 "metadata": {
  "colab": {
   "name": "homework.ipynb",
   "provenance": []
  },
  "kernelspec": {
   "display_name": "Python 3",
   "language": "python",
   "name": "python3"
  },
  "language_info": {
   "codemirror_mode": {
    "name": "ipython",
    "version": 3
   },
   "file_extension": ".py",
   "mimetype": "text/x-python",
   "name": "python",
   "nbconvert_exporter": "python",
   "pygments_lexer": "ipython3",
   "version": "3.6.5"
  }
 },
 "nbformat": 4,
 "nbformat_minor": 1
}
