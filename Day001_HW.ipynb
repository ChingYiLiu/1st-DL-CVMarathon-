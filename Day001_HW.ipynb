{
 "cells": [
  {
   "cell_type": "markdown",
   "metadata": {},
   "source": [
    "# 資料來源與檔案存取\n",
    "\n",
    "* 資料來源與取得\n",
    "* 開放資料\n",
    "* 資料儲存格式\n",
    "* Python 存取檔案"
   ]
  },
  {
   "cell_type": "markdown",
   "metadata": {},
   "source": [
    "## 作業目標\n",
    "\n",
    "* 1.（簡答題）檔案、API、爬蟲三種取得資料方式有什麼不同？\n",
    "* 2.（實作）完成一個程式，需滿足下列需求：\n",
    "    * 下載指定檔案到 Data 資料夾，存成檔名 Homework.txt\n",
    "    * 檢查 Data 資料夾是否有 Homework.txt 檔名之檔案\n",
    "    * 將「Hello World」字串覆寫到 Homework.txt 檔案\n",
    "    * 檢查 Homework.txt 檔案字數是否符合 Hello World 字數\n"
   ]
  },
  {
   "cell_type": "markdown",
   "metadata": {},
   "source": [
    "### 1.（簡答題）檔案、API、爬蟲三種取得資料方式有什麼不同？"
   ]
  },
  {
   "cell_type": "markdown",
   "metadata": {},
   "source": [
    "1. 檔案：直接匯入資料，是已經固定內容的資料，通常為標準格式，例如csv、xls、json。\n",
    "2. API：事先決定好要抓取的內容後，開發好不同系統間對接的路徑(即為API)，之後就可以固定時間、頻率的匯入固定資訊。\n",
    "3. 爬蟲：架好排程之後，即可自動化匯入所有網頁資訊，可運用的資料內容彈性大，但資料格式相對較為混亂、可能會包含很多非目標資料。\n",
    "\n",
    "* 檔案與API是由資料擁有者主動提供，爬蟲則是資料擁有者被動公開。"
   ]
  },
  {
   "cell_type": "markdown",
   "metadata": {},
   "source": [
    "### 2.（實作）完成一個程式，需滿足下列需求：\n",
    "    * 下載指定檔案到 Data 資料夾，存成檔名 Homework.txt\n",
    "    * 檢查 Data 資料夾是否有 Homework.txt 檔名之檔案\n",
    "    * 將「Hello World」字串覆寫到 Homework.txt 檔案\n",
    "    * 檢查 Homework.txt 檔案字數是否符合 Hello World 字數\n"
   ]
  },
  {
   "cell_type": "code",
   "execution_count": 1,
   "metadata": {},
   "outputs": [],
   "source": [
    "# 根據需求引入正確的 Library\n",
    "\n",
    "from urllib.request import urlretrieve\n",
    "import os"
   ]
  },
  {
   "cell_type": "code",
   "execution_count": 4,
   "metadata": {},
   "outputs": [],
   "source": [
    "# 下載檔案到 Data 資料夾，存成檔名 Homework.txt\n",
    "\n",
    "try:\n",
    "    os.makedirs( './Data', exist_ok=True )\n",
    "    urlretrieve (\"https://www.w3.org/TR/PNG/iso_8859-1.txt\", \"./Data/Homework.txt\")\n",
    "\n",
    "except:\n",
    "    print('發生錯誤！')"
   ]
  },
  {
   "cell_type": "code",
   "execution_count": 8,
   "metadata": {},
   "outputs": [
    {
     "name": "stdout",
     "output_type": "stream",
     "text": [
      "example1.txt\n",
      "example2.txt\n",
      "Homework.txt\n"
     ]
    }
   ],
   "source": [
    "dirs = os.listdir('./Data/')\n",
    "\n",
    "for file in dirs:\n",
    "    print(file)\n"
   ]
  },
  {
   "cell_type": "code",
   "execution_count": 12,
   "metadata": {},
   "outputs": [
    {
     "name": "stdout",
     "output_type": "stream",
     "text": [
      "[O] 檢查 Data 資料夾是否有 Homework.txt 檔名之檔案\n"
     ]
    }
   ],
   "source": [
    "# 檢查 Data 資料夾是否有 Homework.txt 檔名之檔案\n",
    "\n",
    "files = []\n",
    "\n",
    "files = os.listdir('./Data/')\n",
    "\n",
    "'''\n",
    "Your Code\n",
    "'''\n",
    "\n",
    "if 'Homework.txt' in files:\n",
    "    print('[O] 檢查 Data 資料夾是否有 Homework.txt 檔名之檔案')\n",
    "else:\n",
    "    print('[X] 檢查 Data 資料夾是否有 Homework.txt 檔名之檔案')"
   ]
  },
  {
   "cell_type": "code",
   "execution_count": 16,
   "metadata": {},
   "outputs": [
    {
     "name": "stdout",
     "output_type": "stream",
     "text": [
      "<_io.TextIOWrapper name='./Data/Homework.txt' mode='w' encoding='cp950'>\n",
      "<_io.TextIOWrapper name='./Data/Homework.txt' mode='r' encoding='cp950'>\n"
     ]
    }
   ],
   "source": [
    "# 將「Hello World」字串覆寫到 Homework.txt 檔案\n",
    "\n",
    "f = ''\n",
    "\n",
    "with open(\"./Data/Homework.txt\", \"w\") as fh:\n",
    "    f = fh.write(\"Hello World\")\n",
    "    print(fh)\n",
    "\n",
    "try:\n",
    "    with open(\"./Data/Homework.txt\", \"r\") as fh:\n",
    "        f = fh.read()\n",
    "        print(fh)\n",
    "except EnvironmentError: # parent of IOError, OSError *and* WindowsError where available\n",
    "    pass    \n",
    "    \n"
   ]
  },
  {
   "cell_type": "code",
   "execution_count": 17,
   "metadata": {
    "scrolled": true
   },
   "outputs": [
    {
     "name": "stdout",
     "output_type": "stream",
     "text": [
      "[O] 檢查 Homework.txt 檔案字數是否符合 Hello World 字數\n"
     ]
    }
   ],
   "source": [
    "# 檢查 Homework.txt 檔案字數是否符合 Hello World 字數\n",
    "\n",
    "if len('Hello World') == len(f):\n",
    "    print('[O] 檢查 Homework.txt 檔案字數是否符合 Hello World 字數')\n",
    "else:\n",
    "    print('[X] 檢查 Homework.txt 檔案字數是否符合 Hello World 字數')"
   ]
  },
  {
   "cell_type": "code",
   "execution_count": null,
   "metadata": {},
   "outputs": [],
   "source": []
  }
 ],
 "metadata": {
  "kernelspec": {
   "display_name": "Python 3",
   "language": "python",
   "name": "python3"
  },
  "language_info": {
   "codemirror_mode": {
    "name": "ipython",
    "version": 3
   },
   "file_extension": ".py",
   "mimetype": "text/x-python",
   "name": "python",
   "nbconvert_exporter": "python",
   "pygments_lexer": "ipython3",
   "version": "3.6.5"
  }
 },
 "nbformat": 4,
 "nbformat_minor": 2
}
